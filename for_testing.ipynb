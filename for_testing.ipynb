{
 "cells": [
  {
   "cell_type": "code",
   "execution_count": 5,
   "metadata": {},
   "outputs": [
    {
     "name": "stdout",
     "output_type": "stream",
     "text": [
      "Found neural_course with type .parquet in (data_saved/emebed_words_conceptnet) and converted it to df\n",
      "df found: True, name: emebed_words_conceptnet\n",
      "File neural_course not found in (data_saved/conceptnet_cosine_similarity)\n",
      "df found: False, name: conceptnet_cosine_similarity\n",
      "No need to run emebed_words_conceptnet for neural_course\n",
      "Running conceptnet_cosine_similarity for neural_course\n",
      "basic processing starting for neural_course\n"
     ]
    },
    {
     "name": "stderr",
     "output_type": "stream",
     "text": [
      "  0%|          | 0/646 [00:00<?, ?it/s]/Users/olaf/opt/miniconda3/envs/torch/lib/python3.9/site-packages/scipy/spatial/distance.py:620: RuntimeWarning: invalid value encountered in double_scalars\n",
      "  dist = 1.0 - uv / np.sqrt(uu * vv)\n",
      "100%|██████████| 646/646 [00:00<00:00, 30564.94it/s]"
     ]
    },
    {
     "name": "stdout",
     "output_type": "stream",
     "text": [
      "no saving needed because basic emebed_words_conceptnet already done on neural_course\n",
      "saving new conceptnet_cosine_similarity phase for: neural_course\n"
     ]
    },
    {
     "name": "stderr",
     "output_type": "stream",
     "text": [
      "\n"
     ]
    }
   ],
   "source": [
    "from classes.Dataset_Basic import Dataset_Basic\n",
    "from classes.Process_Stages import Process_Stages\n",
    "\n",
    "from classes.Dataset_Settings import Dataset_Settings\n",
    "\n",
    "from run_models.cosine_sililarity.classes.Dataset_Cosine import Dataset_Cosine\n",
    "from run_models.gensim.classes.Process_Stages_Gensim import Process_Stages_Gensim\n",
    "\n",
    "from run_models.embed_words.classes.Embed_Words import Embed_Words\n",
    "\n",
    "from run_models.gensim.services.gensim_services import gensim_download, gensim_save, gensim_load\n",
    "from word_embedding.models.classes.EmbeddingModel import EmbeddingModel\n",
    "\n",
    "name_dataset = \"conceptnet_cosine_similarity\"\n",
    "\n",
    "datasets = {}\n",
    "datasets[\"neural_course\"] = Dataset_Cosine(\n",
    "    df_name=\"neural_course\",\n",
    "    model_name=name_dataset, # used for dir name inside data_saved\n",
    "\n",
    "    language=\"english\",\n",
    "\n",
    "    datasets = {\n",
    "        \"emebed_words_conceptnet\": Dataset_Settings(\n",
    "            df=None,\n",
    "            may_run_now=False,\n",
    "            required=True,\n",
    "            parquet=True\n",
    "        ),\n",
    "        name_dataset: Dataset_Settings(\n",
    "            df=None,\n",
    "            may_run_now=True,\n",
    "            required=True,\n",
    "            parquet=True,\n",
    "            name_required_dataset=\"gensim\"\n",
    "        ),\n",
    "    },\n",
    "\n",
    "    columns_to_add = {name_dataset: {\"cosine_similarity\": []}},\n",
    "\n",
    ")\n",
    "\n",
    "# get dataset, process dataset, save dataset\n",
    "datasets[\"neural_course\"].get_dataset()\n",
    "datasets[\"neural_course\"].process_dataset()\n",
    "datasets[\"neural_course\"].add_columns()\n",
    "datasets[\"neural_course\"].save()\n"
   ]
  },
  {
   "attachments": {},
   "cell_type": "markdown",
   "metadata": {},
   "source": [
    "# Regression testing"
   ]
  },
  {
   "cell_type": "code",
   "execution_count": 1,
   "metadata": {},
   "outputs": [],
   "source": [
    "# run regression\n",
    "from run_models.regressions.classses.Regression_Model import Regression_Model\n",
    "\n",
    "# dataset\n",
    "from classes.Dataset_Settings import Dataset_Settings\n",
    "\n",
    "import pandas as pd\n",
    "\n",
    "# import datasets\n",
    "data = pd.read_parquet(\"data_saved/cosine_similarity_glove/texas.parquet\")\n",
    "data.head(1)\n",
    "\n",
    "# splitting data\n",
    "seed = 42\n",
    "\n",
    "dataset = Dataset_Settings(\n",
    "    df=data, \n",
    "    may_run_now=True, \n",
    "    required=True\n",
    ")\n",
    "\n",
    "dataset.split_datasets(seed=seed)\n"
   ]
  },
  {
   "cell_type": "code",
   "execution_count": 2,
   "metadata": {},
   "outputs": [
    {
     "data": {
      "text/html": [
       "<div>\n",
       "<style scoped>\n",
       "    .dataframe tbody tr th:only-of-type {\n",
       "        vertical-align: middle;\n",
       "    }\n",
       "\n",
       "    .dataframe tbody tr th {\n",
       "        vertical-align: top;\n",
       "    }\n",
       "\n",
       "    .dataframe thead th {\n",
       "        text-align: right;\n",
       "    }\n",
       "</style>\n",
       "<table border=\"1\" class=\"dataframe\">\n",
       "  <thead>\n",
       "    <tr style=\"text-align: right;\">\n",
       "      <th></th>\n",
       "      <th>row_id</th>\n",
       "      <th>question</th>\n",
       "      <th>question_id</th>\n",
       "      <th>student_answer</th>\n",
       "      <th>reference_answer</th>\n",
       "      <th>assigned_points</th>\n",
       "      <th>max_points</th>\n",
       "      <th>domain</th>\n",
       "      <th>dataset_name</th>\n",
       "      <th>normalized_points</th>\n",
       "      <th>cosine_similarity</th>\n",
       "    </tr>\n",
       "  </thead>\n",
       "  <tbody>\n",
       "    <tr>\n",
       "      <th>0</th>\n",
       "      <td>0</td>\n",
       "      <td>What is the role of a prototype program in pro...</td>\n",
       "      <td>131</td>\n",
       "      <td>[-3.1750799482688308, 4.741948984563351, -0.22...</td>\n",
       "      <td>[-1.4908400028944016, 1.6709499955177307, 0.20...</td>\n",
       "      <td>4</td>\n",
       "      <td>5</td>\n",
       "      <td>science</td>\n",
       "      <td>texas</td>\n",
       "      <td>0.8</td>\n",
       "      <td>0.683614</td>\n",
       "    </tr>\n",
       "    <tr>\n",
       "      <th>1</th>\n",
       "      <td>1</td>\n",
       "      <td>What is the role of a prototype program in pro...</td>\n",
       "      <td>131</td>\n",
       "      <td>[-1.4845619946718216, 4.378678020089865, 1.191...</td>\n",
       "      <td>[-1.4908400028944016, 1.6709499955177307, 0.20...</td>\n",
       "      <td>5</td>\n",
       "      <td>5</td>\n",
       "      <td>science</td>\n",
       "      <td>texas</td>\n",
       "      <td>1.0</td>\n",
       "      <td>0.695208</td>\n",
       "    </tr>\n",
       "  </tbody>\n",
       "</table>\n",
       "</div>"
      ],
      "text/plain": [
       "   row_id                                           question  question_id  \\\n",
       "0       0  What is the role of a prototype program in pro...          131   \n",
       "1       1  What is the role of a prototype program in pro...          131   \n",
       "\n",
       "                                      student_answer  \\\n",
       "0  [-3.1750799482688308, 4.741948984563351, -0.22...   \n",
       "1  [-1.4845619946718216, 4.378678020089865, 1.191...   \n",
       "\n",
       "                                    reference_answer  assigned_points  \\\n",
       "0  [-1.4908400028944016, 1.6709499955177307, 0.20...                4   \n",
       "1  [-1.4908400028944016, 1.6709499955177307, 0.20...                5   \n",
       "\n",
       "   max_points   domain dataset_name  normalized_points  cosine_similarity  \n",
       "0           5  science        texas                0.8           0.683614  \n",
       "1           5  science        texas                1.0           0.695208  "
      ]
     },
     "execution_count": 2,
     "metadata": {},
     "output_type": "execute_result"
    }
   ],
   "source": [
    "data.head(2)\n"
   ]
  },
  {
   "cell_type": "code",
   "execution_count": 9,
   "metadata": {},
   "outputs": [],
   "source": [
    "from sklearn.isotonic import IsotonicRegression\n",
    "from sklearn.linear_model import LinearRegression, Ridge\n",
    "\n",
    "# classes\n",
    "from performance_tracking.classes.Measurement_Settings import Measurement_Settings\n",
    "\n",
    "# constants\n",
    "from performance_tracking.constants import *\n",
    "\n",
    "isotonic_regression = Regression_Model(\n",
    "    \n",
    "    # id what is being tracked\n",
    "    embedding_seperated=True,\n",
    "    embedding_model_name=\"glove\",\n",
    "    classfication_model_name=\"ridge_regression\",\n",
    "    dataset_name=\"texas\",\n",
    "\n",
    "    # duplicates handeling\n",
    "    settings_performance_tacking=REPLACE,\n",
    "    measurement_settings=Measurement_Settings(\n",
    "        print_regression=True, \n",
    "        print_classification=True, \n",
    "        save_performance=True\n",
    "    ),\n",
    "    \n",
    "    dataset=dataset,\n",
    "    classification_model=Ridge,\n",
    "    x_column=\"cosine_similarity\",\n",
    "    y_column=\"normalized_points\"\n",
    "    \n",
    ")\n"
   ]
  },
  {
   "cell_type": "code",
   "execution_count": 15,
   "metadata": {},
   "outputs": [
    {
     "ename": "TypeError",
     "evalue": "'Ridge' object is not callable",
     "output_type": "error",
     "traceback": [
      "\u001b[0;31m---------------------------------------------------------------------------\u001b[0m",
      "\u001b[0;31mTypeError\u001b[0m                                 Traceback (most recent call last)",
      "Cell \u001b[0;32mIn[15], line 1\u001b[0m\n\u001b[0;32m----> 1\u001b[0m isotonic_regression\u001b[39m.\u001b[39;49mtrain()\n",
      "File \u001b[0;32m~/UvA/masterLocal/Thesis/Thesis/run_models/regressions/classses/Regression_Model.py:51\u001b[0m, in \u001b[0;36mRegression_Model.train\u001b[0;34m(self)\u001b[0m\n\u001b[1;32m     48\u001b[0m \u001b[39mdef\u001b[39;00m \u001b[39mtrain\u001b[39m(\u001b[39mself\u001b[39m):\n\u001b[1;32m     49\u001b[0m     \n\u001b[1;32m     50\u001b[0m     \u001b[39m# fit regression\u001b[39;00m\n\u001b[0;32m---> 51\u001b[0m     \u001b[39mself\u001b[39m\u001b[39m.\u001b[39mclassification_model \u001b[39m=\u001b[39m \u001b[39mself\u001b[39;49m\u001b[39m.\u001b[39;49mclassification_model()\u001b[39m.\u001b[39mfit(\u001b[39mself\u001b[39m\u001b[39m.\u001b[39mdataset[\u001b[39m\"\u001b[39m\u001b[39mtrain_df\u001b[39m\u001b[39m\"\u001b[39m][\u001b[39mself\u001b[39m\u001b[39m.\u001b[39mx_column]\u001b[39m.\u001b[39mvalues\u001b[39m.\u001b[39mreshape(\u001b[39m-\u001b[39m\u001b[39m1\u001b[39m, \u001b[39m1\u001b[39m), \u001b[39mself\u001b[39m\u001b[39m.\u001b[39mdataset[\u001b[39m\"\u001b[39m\u001b[39mtrain_df\u001b[39m\u001b[39m\"\u001b[39m][\u001b[39mself\u001b[39m\u001b[39m.\u001b[39my_column])\n\u001b[1;32m     53\u001b[0m     \u001b[39m# measure performance\u001b[39;00m\n\u001b[1;32m     54\u001b[0m     \u001b[39mself\u001b[39m\u001b[39m.\u001b[39mmeasure_performance(\n\u001b[1;32m     55\u001b[0m         dataset_split\u001b[39m=\u001b[39mTRAIN,\n\u001b[1;32m     56\u001b[0m     )\n",
      "\u001b[0;31mTypeError\u001b[0m: 'Ridge' object is not callable"
     ]
    }
   ],
   "source": [
    "isotonic_regression.train()\n"
   ]
  },
  {
   "cell_type": "code",
   "execution_count": 16,
   "metadata": {},
   "outputs": [
    {
     "name": "stdout",
     "output_type": "stream",
     "text": [
      "\n",
      "-----\n",
      "embedding_model_name: glove\n",
      "classfication_model_name: ridge_regression\n",
      "dataset_name: texas\n",
      "\n",
      "*** regression performance ***\n",
      "rmse: 5.130799212147239\n",
      "pears_correlation: 0.4465758064577274\n",
      "\n",
      "*** classification performance ***\n",
      "accuracy: 0.3788546255506608\n",
      "precision_weighted: 0.5409047623756303\n",
      "recall_weighted: 0.3788546255506608\n",
      "f1_weighted: 0.3478631014039235\n"
     ]
    },
    {
     "name": "stderr",
     "output_type": "stream",
     "text": [
      "/Users/olaf/opt/miniconda3/envs/torch/lib/python3.9/site-packages/sklearn/metrics/_classification.py:1334: UndefinedMetricWarning: Precision and F-score are ill-defined and being set to 0.0 in labels with no predicted samples. Use `zero_division` parameter to control this behavior.\n",
      "  _warn_prf(average, modifier, msg_start, len(result))\n",
      "/Users/olaf/opt/miniconda3/envs/torch/lib/python3.9/site-packages/sklearn/metrics/_classification.py:1334: UndefinedMetricWarning: Precision and F-score are ill-defined and being set to 0.0 in labels with no predicted samples. Use `zero_division` parameter to control this behavior.\n",
      "  _warn_prf(average, modifier, msg_start, len(result))\n"
     ]
    }
   ],
   "source": [
    "isotonic_regression.test()\n"
   ]
  },
  {
   "cell_type": "code",
   "execution_count": 17,
   "metadata": {},
   "outputs": [
    {
     "name": "stdout",
     "output_type": "stream",
     "text": [
      "\n",
      "-----\n",
      "embedding_model_name: glove\n",
      "classfication_model_name: ridge_regression\n",
      "dataset_name: texas\n",
      "\n",
      "*** regression performance ***\n",
      "rmse: 4.787277886955549\n",
      "pears_correlation: 0.35973980928430077\n",
      "\n",
      "*** classification performance ***\n",
      "accuracy: 0.42105263157894735\n",
      "precision_weighted: 0.5791167516813711\n",
      "recall_weighted: 0.42105263157894735\n",
      "f1_weighted: 0.3875085008536521\n"
     ]
    },
    {
     "name": "stderr",
     "output_type": "stream",
     "text": [
      "/Users/olaf/opt/miniconda3/envs/torch/lib/python3.9/site-packages/sklearn/metrics/_classification.py:1334: UndefinedMetricWarning: Precision and F-score are ill-defined and being set to 0.0 in labels with no predicted samples. Use `zero_division` parameter to control this behavior.\n",
      "  _warn_prf(average, modifier, msg_start, len(result))\n",
      "/Users/olaf/opt/miniconda3/envs/torch/lib/python3.9/site-packages/sklearn/metrics/_classification.py:1334: UndefinedMetricWarning: Precision and F-score are ill-defined and being set to 0.0 in labels with no predicted samples. Use `zero_division` parameter to control this behavior.\n",
      "  _warn_prf(average, modifier, msg_start, len(result))\n"
     ]
    }
   ],
   "source": [
    "isotonic_regression.validation()\n"
   ]
  },
  {
   "cell_type": "code",
   "execution_count": 6,
   "metadata": {},
   "outputs": [
    {
     "name": "stdout",
     "output_type": "stream",
     "text": [
      "Accuracy: 0.3788546255506608\n",
      "\n",
      "Weighted-Averaged Precision: 0.5409047623756303\n",
      "Weighted-Averaged Recall: 0.3788546255506608\n",
      "Weighted-Averaged F1-score: 0.3478631014039235\n"
     ]
    },
    {
     "name": "stderr",
     "output_type": "stream",
     "text": [
      "/Users/olaf/opt/miniconda3/envs/torch/lib/python3.9/site-packages/sklearn/metrics/_classification.py:1334: UndefinedMetricWarning: Precision and F-score are ill-defined and being set to 0.0 in labels with no predicted samples. Use `zero_division` parameter to control this behavior.\n",
      "  _warn_prf(average, modifier, msg_start, len(result))\n",
      "/Users/olaf/opt/miniconda3/envs/torch/lib/python3.9/site-packages/sklearn/metrics/_classification.py:1334: UndefinedMetricWarning: Precision and F-score are ill-defined and being set to 0.0 in labels with no predicted samples. Use `zero_division` parameter to control this behavior.\n",
      "  _warn_prf(average, modifier, msg_start, len(result))\n"
     ]
    }
   ],
   "source": [
    "isotonic_regression.model_accuracy(True, \"test_df\")\n"
   ]
  },
  {
   "cell_type": "code",
   "execution_count": null,
   "metadata": {},
   "outputs": [],
   "source": []
  },
  {
   "cell_type": "code",
   "execution_count": 8,
   "metadata": {},
   "outputs": [
    {
     "data": {
      "text/plain": [
       "1.0261598424294478"
      ]
     },
     "execution_count": 8,
     "metadata": {},
     "output_type": "execute_result"
    }
   ],
   "source": [
    "isotonic_regression[\"performance\"][\"rmse\"]\n",
    "# isotonic_regression[\"dataset\"][\"test_df\"].head(20)\n"
   ]
  },
  {
   "cell_type": "code",
   "execution_count": 9,
   "metadata": {},
   "outputs": [
    {
     "data": {
      "text/html": [
       "<div>\n",
       "<style scoped>\n",
       "    .dataframe tbody tr th:only-of-type {\n",
       "        vertical-align: middle;\n",
       "    }\n",
       "\n",
       "    .dataframe tbody tr th {\n",
       "        vertical-align: top;\n",
       "    }\n",
       "\n",
       "    .dataframe thead th {\n",
       "        text-align: right;\n",
       "    }\n",
       "</style>\n",
       "<table border=\"1\" class=\"dataframe\">\n",
       "  <thead>\n",
       "    <tr style=\"text-align: right;\">\n",
       "      <th></th>\n",
       "      <th>row_id</th>\n",
       "      <th>question_id</th>\n",
       "      <th>assigned_points</th>\n",
       "      <th>max_points</th>\n",
       "      <th>normalized_points</th>\n",
       "      <th>cosine_similarity</th>\n",
       "      <th>y_pred</th>\n",
       "      <th>pred_points</th>\n",
       "    </tr>\n",
       "  </thead>\n",
       "  <tbody>\n",
       "    <tr>\n",
       "      <th>count</th>\n",
       "      <td>454.000000</td>\n",
       "      <td>454.000000</td>\n",
       "      <td>454.000000</td>\n",
       "      <td>454.0</td>\n",
       "      <td>454.000000</td>\n",
       "      <td>454.000000</td>\n",
       "      <td>454.000000</td>\n",
       "      <td>454.000000</td>\n",
       "    </tr>\n",
       "    <tr>\n",
       "      <th>mean</th>\n",
       "      <td>1123.222467</td>\n",
       "      <td>170.002203</td>\n",
       "      <td>4.145374</td>\n",
       "      <td>5.0</td>\n",
       "      <td>0.829075</td>\n",
       "      <td>0.707738</td>\n",
       "      <td>0.824312</td>\n",
       "      <td>4.061674</td>\n",
       "    </tr>\n",
       "    <tr>\n",
       "      <th>std</th>\n",
       "      <td>659.512420</td>\n",
       "      <td>23.833353</td>\n",
       "      <td>1.145492</td>\n",
       "      <td>0.0</td>\n",
       "      <td>0.229098</td>\n",
       "      <td>0.197314</td>\n",
       "      <td>0.089210</td>\n",
       "      <td>0.510968</td>\n",
       "    </tr>\n",
       "    <tr>\n",
       "      <th>min</th>\n",
       "      <td>8.000000</td>\n",
       "      <td>131.000000</td>\n",
       "      <td>0.000000</td>\n",
       "      <td>5.0</td>\n",
       "      <td>0.000000</td>\n",
       "      <td>-0.004992</td>\n",
       "      <td>0.502070</td>\n",
       "      <td>3.000000</td>\n",
       "    </tr>\n",
       "    <tr>\n",
       "      <th>25%</th>\n",
       "      <td>535.750000</td>\n",
       "      <td>148.250000</td>\n",
       "      <td>4.000000</td>\n",
       "      <td>5.0</td>\n",
       "      <td>0.800000</td>\n",
       "      <td>0.616904</td>\n",
       "      <td>0.783244</td>\n",
       "      <td>4.000000</td>\n",
       "    </tr>\n",
       "    <tr>\n",
       "      <th>50%</th>\n",
       "      <td>1162.000000</td>\n",
       "      <td>171.000000</td>\n",
       "      <td>5.000000</td>\n",
       "      <td>5.0</td>\n",
       "      <td>1.000000</td>\n",
       "      <td>0.757160</td>\n",
       "      <td>0.846657</td>\n",
       "      <td>4.000000</td>\n",
       "    </tr>\n",
       "    <tr>\n",
       "      <th>75%</th>\n",
       "      <td>1705.250000</td>\n",
       "      <td>192.000000</td>\n",
       "      <td>5.000000</td>\n",
       "      <td>5.0</td>\n",
       "      <td>1.000000</td>\n",
       "      <td>0.847797</td>\n",
       "      <td>0.887636</td>\n",
       "      <td>4.000000</td>\n",
       "    </tr>\n",
       "    <tr>\n",
       "      <th>max</th>\n",
       "      <td>2271.000000</td>\n",
       "      <td>211.000000</td>\n",
       "      <td>5.000000</td>\n",
       "      <td>5.0</td>\n",
       "      <td>1.000000</td>\n",
       "      <td>1.000000</td>\n",
       "      <td>0.956451</td>\n",
       "      <td>5.000000</td>\n",
       "    </tr>\n",
       "  </tbody>\n",
       "</table>\n",
       "</div>"
      ],
      "text/plain": [
       "            row_id  question_id  assigned_points  max_points  \\\n",
       "count   454.000000   454.000000       454.000000       454.0   \n",
       "mean   1123.222467   170.002203         4.145374         5.0   \n",
       "std     659.512420    23.833353         1.145492         0.0   \n",
       "min       8.000000   131.000000         0.000000         5.0   \n",
       "25%     535.750000   148.250000         4.000000         5.0   \n",
       "50%    1162.000000   171.000000         5.000000         5.0   \n",
       "75%    1705.250000   192.000000         5.000000         5.0   \n",
       "max    2271.000000   211.000000         5.000000         5.0   \n",
       "\n",
       "       normalized_points  cosine_similarity      y_pred  pred_points  \n",
       "count         454.000000         454.000000  454.000000   454.000000  \n",
       "mean            0.829075           0.707738    0.824312     4.061674  \n",
       "std             0.229098           0.197314    0.089210     0.510968  \n",
       "min             0.000000          -0.004992    0.502070     3.000000  \n",
       "25%             0.800000           0.616904    0.783244     4.000000  \n",
       "50%             1.000000           0.757160    0.846657     4.000000  \n",
       "75%             1.000000           0.847797    0.887636     4.000000  \n",
       "max             1.000000           1.000000    0.956451     5.000000  "
      ]
     },
     "execution_count": 9,
     "metadata": {},
     "output_type": "execute_result"
    }
   ],
   "source": [
    "dataset[\"test_df\"].describe()\n"
   ]
  },
  {
   "cell_type": "code",
   "execution_count": 21,
   "metadata": {},
   "outputs": [],
   "source": [
    "# model.model.index_to_key\n"
   ]
  },
  {
   "cell_type": "code",
   "execution_count": 22,
   "metadata": {},
   "outputs": [],
   "source": [
    "# model.model[f\"/c/en/open\"]\n"
   ]
  },
  {
   "cell_type": "code",
   "execution_count": 18,
   "metadata": {},
   "outputs": [],
   "source": [
    "performance = pd.read_csv(\"performance_tracking/tracking/performance_tracking.csv\")"
   ]
  },
  {
   "cell_type": "code",
   "execution_count": 19,
   "metadata": {},
   "outputs": [
    {
     "data": {
      "text/html": [
       "<div>\n",
       "<style scoped>\n",
       "    .dataframe tbody tr th:only-of-type {\n",
       "        vertical-align: middle;\n",
       "    }\n",
       "\n",
       "    .dataframe tbody tr th {\n",
       "        vertical-align: top;\n",
       "    }\n",
       "\n",
       "    .dataframe thead th {\n",
       "        text-align: right;\n",
       "    }\n",
       "</style>\n",
       "<table border=\"1\" class=\"dataframe\">\n",
       "  <thead>\n",
       "    <tr style=\"text-align: right;\">\n",
       "      <th></th>\n",
       "      <th>row_id</th>\n",
       "      <th>embedding_seperated</th>\n",
       "      <th>embedding_model_name</th>\n",
       "      <th>classification_model_name</th>\n",
       "      <th>dataset_name</th>\n",
       "      <th>dataset_split</th>\n",
       "      <th>time_stamp</th>\n",
       "      <th>rmse</th>\n",
       "      <th>pears_correlation</th>\n",
       "      <th>p_valueaccuracy</th>\n",
       "      <th>...</th>\n",
       "      <th>recall_macro</th>\n",
       "      <th>f1_macro</th>\n",
       "      <th>precision_micro</th>\n",
       "      <th>recall_micro</th>\n",
       "      <th>f1_micro</th>\n",
       "      <th>precision_weighted</th>\n",
       "      <th>recall_weighted</th>\n",
       "      <th>f1_weighted</th>\n",
       "      <th>p_value</th>\n",
       "      <th>accuracy</th>\n",
       "    </tr>\n",
       "  </thead>\n",
       "  <tbody>\n",
       "    <tr>\n",
       "      <th>0</th>\n",
       "      <td>3</td>\n",
       "      <td>True</td>\n",
       "      <td>glove</td>\n",
       "      <td>ridge_regression</td>\n",
       "      <td>texas</td>\n",
       "      <td>train_df</td>\n",
       "      <td>2023-05-19 11:44:19</td>\n",
       "      <td>5.136838</td>\n",
       "      <td>0.391267</td>\n",
       "      <td>NaN</td>\n",
       "      <td>...</td>\n",
       "      <td>0.196450</td>\n",
       "      <td>0.162187</td>\n",
       "      <td>0.382150</td>\n",
       "      <td>0.382150</td>\n",
       "      <td>0.382150</td>\n",
       "      <td>0.597513</td>\n",
       "      <td>0.382150</td>\n",
       "      <td>0.343625</td>\n",
       "      <td>2.367019e-59</td>\n",
       "      <td>0.382150</td>\n",
       "    </tr>\n",
       "    <tr>\n",
       "      <th>1</th>\n",
       "      <td>4</td>\n",
       "      <td>True</td>\n",
       "      <td>glove</td>\n",
       "      <td>ridge_regression</td>\n",
       "      <td>texas</td>\n",
       "      <td>test_df</td>\n",
       "      <td>2023-05-19 11:44:19</td>\n",
       "      <td>5.130799</td>\n",
       "      <td>0.446576</td>\n",
       "      <td>NaN</td>\n",
       "      <td>...</td>\n",
       "      <td>0.202706</td>\n",
       "      <td>0.161333</td>\n",
       "      <td>0.378855</td>\n",
       "      <td>0.378855</td>\n",
       "      <td>0.378855</td>\n",
       "      <td>0.540905</td>\n",
       "      <td>0.378855</td>\n",
       "      <td>0.347863</td>\n",
       "      <td>1.226667e-23</td>\n",
       "      <td>0.378855</td>\n",
       "    </tr>\n",
       "    <tr>\n",
       "      <th>2</th>\n",
       "      <td>5</td>\n",
       "      <td>True</td>\n",
       "      <td>glove</td>\n",
       "      <td>ridge_regression</td>\n",
       "      <td>texas</td>\n",
       "      <td>validation_df</td>\n",
       "      <td>2023-05-19 11:44:19</td>\n",
       "      <td>4.787278</td>\n",
       "      <td>0.359740</td>\n",
       "      <td>NaN</td>\n",
       "      <td>...</td>\n",
       "      <td>0.212682</td>\n",
       "      <td>0.175319</td>\n",
       "      <td>0.421053</td>\n",
       "      <td>0.421053</td>\n",
       "      <td>0.421053</td>\n",
       "      <td>0.579117</td>\n",
       "      <td>0.421053</td>\n",
       "      <td>0.387509</td>\n",
       "      <td>2.265781e-08</td>\n",
       "      <td>0.421053</td>\n",
       "    </tr>\n",
       "  </tbody>\n",
       "</table>\n",
       "<p>3 rows × 21 columns</p>\n",
       "</div>"
      ],
      "text/plain": [
       "   row_id  embedding_seperated embedding_model_name classification_model_name  \\\n",
       "0       3                 True                glove          ridge_regression   \n",
       "1       4                 True                glove          ridge_regression   \n",
       "2       5                 True                glove          ridge_regression   \n",
       "\n",
       "  dataset_name  dataset_split           time_stamp      rmse  \\\n",
       "0        texas       train_df  2023-05-19 11:44:19  5.136838   \n",
       "1        texas        test_df  2023-05-19 11:44:19  5.130799   \n",
       "2        texas  validation_df  2023-05-19 11:44:19  4.787278   \n",
       "\n",
       "   pears_correlation  p_valueaccuracy  ...  recall_macro  f1_macro  \\\n",
       "0           0.391267              NaN  ...      0.196450  0.162187   \n",
       "1           0.446576              NaN  ...      0.202706  0.161333   \n",
       "2           0.359740              NaN  ...      0.212682  0.175319   \n",
       "\n",
       "   precision_micro  recall_micro  f1_micro  precision_weighted  \\\n",
       "0         0.382150      0.382150  0.382150            0.597513   \n",
       "1         0.378855      0.378855  0.378855            0.540905   \n",
       "2         0.421053      0.421053  0.421053            0.579117   \n",
       "\n",
       "   recall_weighted  f1_weighted       p_value  accuracy  \n",
       "0         0.382150     0.343625  2.367019e-59  0.382150  \n",
       "1         0.378855     0.347863  1.226667e-23  0.378855  \n",
       "2         0.421053     0.387509  2.265781e-08  0.421053  \n",
       "\n",
       "[3 rows x 21 columns]"
      ]
     },
     "execution_count": 19,
     "metadata": {},
     "output_type": "execute_result"
    }
   ],
   "source": [
    "performance\n"
   ]
  },
  {
   "cell_type": "code",
   "execution_count": 5,
   "metadata": {},
   "outputs": [
    {
     "name": "stdout",
     "output_type": "stream",
     "text": [
      "User chose Yes.\n"
     ]
    }
   ],
   "source": [
    "def get_yes_no_input(prompt):\n",
    "    while True:\n",
    "        user_input = input(prompt).lower().strip()\n",
    "        if user_input in ('yes', 'y', 'no', 'n'):\n",
    "            return user_input in ('yes', 'y')\n",
    "        else:\n",
    "            print(\"Invalid input. Please enter 'Yes' or 'No'.\")\n",
    "\n",
    "# Get user input\n",
    "user_response = get_yes_no_input(\"Do you want to continue? (Yes/No): \")\n",
    "\n",
    "if user_response:\n",
    "    print(\"User chose Yes.\")\n",
    "else:\n",
    "    print(\"User chose No.\")\n"
   ]
  },
  {
   "cell_type": "code",
   "execution_count": null,
   "metadata": {},
   "outputs": [],
   "source": []
  },
  {
   "cell_type": "code",
   "execution_count": null,
   "metadata": {},
   "outputs": [],
   "source": []
  },
  {
   "cell_type": "code",
   "execution_count": null,
   "metadata": {},
   "outputs": [],
   "source": []
  },
  {
   "cell_type": "code",
   "execution_count": null,
   "metadata": {},
   "outputs": [],
   "source": []
  },
  {
   "cell_type": "code",
   "execution_count": null,
   "metadata": {},
   "outputs": [],
   "source": []
  },
  {
   "cell_type": "code",
   "execution_count": null,
   "metadata": {},
   "outputs": [],
   "source": []
  }
 ],
 "metadata": {
  "kernelspec": {
   "display_name": "torch",
   "language": "python",
   "name": "python3"
  },
  "language_info": {
   "codemirror_mode": {
    "name": "ipython",
    "version": 3
   },
   "file_extension": ".py",
   "mimetype": "text/x-python",
   "name": "python",
   "nbconvert_exporter": "python",
   "pygments_lexer": "ipython3",
   "version": "3.9.15"
  },
  "orig_nbformat": 4
 },
 "nbformat": 4,
 "nbformat_minor": 2
}
