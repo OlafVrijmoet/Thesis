{
 "cells": [
  {
   "cell_type": "code",
   "execution_count": 1,
   "metadata": {},
   "outputs": [
    {
     "name": "stdout",
     "output_type": "stream",
     "text": [
      "Found ASAP_sas with type .csv in (data_saved/basic_processed) and converted it to df\n",
      "basic processing already done for ASAP_sas\n",
      "no saving needed because new basic processing done on ASAP_sas\n"
     ]
    }
   ],
   "source": [
    "from classes.Dataset import Dataset\n",
    "from classes.Process_Stages import Process_Stages\n",
    "\n",
    "ASAP_sas = Dataset(\n",
    "    df_name=\"ASAP_sas\", \n",
    "    model_name=\"gensim\", \n",
    "    language=\"english\", \n",
    "    process_stages = Process_Stages(\n",
    "        lower=True, \n",
    "        only_text=True, \n",
    "        strip_extra_whitespace=True, \n",
    "        spelling_check=True, \n",
    "        strip_punctuation=True, \n",
    "        gensim_remove_stop_words=False, \n",
    "        gensim_tokenization=False, \n",
    "        gensim_lemmatize=False\n",
    "\n",
    "    )\n",
    ")\n",
    "\n",
    "ASAP_sas.run_all()\n"
   ]
  },
  {
   "cell_type": "code",
   "execution_count": 2,
   "metadata": {},
   "outputs": [
    {
     "data": {
      "text/plain": [
       "{'lower': False,\n",
       " 'only_text': False,\n",
       " 'strip_extra_whitespace': False,\n",
       " 'spelling_check': False,\n",
       " 'strip_punctuation': False,\n",
       " 'gensim_remove_stop_words': False,\n",
       " 'gensim_tokenization': False,\n",
       " 'gensim_lemmatize': False}"
      ]
     },
     "execution_count": 2,
     "metadata": {},
     "output_type": "execute_result"
    }
   ],
   "source": [
    "vars(ASAP_sas.process_stages)\n"
   ]
  },
  {
   "cell_type": "code",
   "execution_count": null,
   "metadata": {},
   "outputs": [],
   "source": []
  }
 ],
 "metadata": {
  "kernelspec": {
   "display_name": "torch",
   "language": "python",
   "name": "python3"
  },
  "language_info": {
   "codemirror_mode": {
    "name": "ipython",
    "version": 3
   },
   "file_extension": ".py",
   "mimetype": "text/x-python",
   "name": "python",
   "nbconvert_exporter": "python",
   "pygments_lexer": "ipython3",
   "version": "3.9.15"
  },
  "orig_nbformat": 4
 },
 "nbformat": 4,
 "nbformat_minor": 2
}
